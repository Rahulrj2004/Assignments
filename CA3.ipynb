{
 "cells": [
  {
   "cell_type": "code",
   "execution_count": 1,
   "id": "a3369469-1982-47e1-b77e-e4e3e216ab96",
   "metadata": {},
   "outputs": [],
   "source": [
    "import numpy as np\n",
    "import pandas as pd"
   ]
  },
  {
   "cell_type": "markdown",
   "id": "d1c24d6d-ea91-44ea-ab3f-a9ba1eea55bf",
   "metadata": {},
   "source": [
    "### Question 1"
   ]
  },
  {
   "cell_type": "code",
   "execution_count": 2,
   "id": "bfab213a-56c1-4f26-a9f8-b6fd005730c6",
   "metadata": {},
   "outputs": [],
   "source": [
    "df=pd.read_csv(\"IPL_23.csv\")"
   ]
  },
  {
   "cell_type": "markdown",
   "id": "72e720f1-4162-4280-9bee-0f3b729ed024",
   "metadata": {},
   "source": [
    "### Question 2"
   ]
  },
  {
   "cell_type": "code",
   "execution_count": 3,
   "id": "ca3b8b56-1416-452f-bb57-0eabf09ae90c",
   "metadata": {},
   "outputs": [
    {
     "data": {
      "text/html": [
       "<div>\n",
       "<style scoped>\n",
       "    .dataframe tbody tr th:only-of-type {\n",
       "        vertical-align: middle;\n",
       "    }\n",
       "\n",
       "    .dataframe tbody tr th {\n",
       "        vertical-align: top;\n",
       "    }\n",
       "\n",
       "    .dataframe thead th {\n",
       "        text-align: right;\n",
       "    }\n",
       "</style>\n",
       "<table border=\"1\" class=\"dataframe\">\n",
       "  <thead>\n",
       "    <tr style=\"text-align: right;\">\n",
       "      <th></th>\n",
       "      <th>Sl.NO.</th>\n",
       "      <th>PLAYER NAME</th>\n",
       "      <th>AGE</th>\n",
       "      <th>COUNTRY</th>\n",
       "      <th>TEAM</th>\n",
       "      <th>PLAYING ROLE</th>\n",
       "      <th>T-RUNS</th>\n",
       "      <th>T-WKTS</th>\n",
       "      <th>ODI-RUNS-S</th>\n",
       "      <th>ODI-SR-B</th>\n",
       "      <th>...</th>\n",
       "      <th>SR-B</th>\n",
       "      <th>SIXERS</th>\n",
       "      <th>RUNS-C</th>\n",
       "      <th>WKTS</th>\n",
       "      <th>AVE-BL</th>\n",
       "      <th>ECON</th>\n",
       "      <th>SR-BL</th>\n",
       "      <th>AUCTION YEAR</th>\n",
       "      <th>BASE PRICE</th>\n",
       "      <th>SOLD PRICE</th>\n",
       "    </tr>\n",
       "  </thead>\n",
       "  <tbody>\n",
       "    <tr>\n",
       "      <th>0</th>\n",
       "      <td>1</td>\n",
       "      <td>Abdulla, YA</td>\n",
       "      <td>2</td>\n",
       "      <td>SA</td>\n",
       "      <td>KXIP</td>\n",
       "      <td>Allrounder</td>\n",
       "      <td>0</td>\n",
       "      <td>0</td>\n",
       "      <td>0</td>\n",
       "      <td>0.00</td>\n",
       "      <td>...</td>\n",
       "      <td>0.00</td>\n",
       "      <td>0</td>\n",
       "      <td>307</td>\n",
       "      <td>15</td>\n",
       "      <td>20.47</td>\n",
       "      <td>8.90</td>\n",
       "      <td>13.93</td>\n",
       "      <td>2009</td>\n",
       "      <td>50000</td>\n",
       "      <td>50000</td>\n",
       "    </tr>\n",
       "    <tr>\n",
       "      <th>1</th>\n",
       "      <td>2</td>\n",
       "      <td>Abdur Razzak</td>\n",
       "      <td>2</td>\n",
       "      <td>BAN</td>\n",
       "      <td>RCB</td>\n",
       "      <td>Bowler</td>\n",
       "      <td>214</td>\n",
       "      <td>18</td>\n",
       "      <td>657</td>\n",
       "      <td>71.41</td>\n",
       "      <td>...</td>\n",
       "      <td>0.00</td>\n",
       "      <td>0</td>\n",
       "      <td>29</td>\n",
       "      <td>0</td>\n",
       "      <td>0.00</td>\n",
       "      <td>14.50</td>\n",
       "      <td>0.00</td>\n",
       "      <td>2008</td>\n",
       "      <td>50000</td>\n",
       "      <td>50000</td>\n",
       "    </tr>\n",
       "    <tr>\n",
       "      <th>2</th>\n",
       "      <td>3</td>\n",
       "      <td>Agarkar, AB</td>\n",
       "      <td>2</td>\n",
       "      <td>IND</td>\n",
       "      <td>KKR</td>\n",
       "      <td>Bowler</td>\n",
       "      <td>571</td>\n",
       "      <td>58</td>\n",
       "      <td>1269</td>\n",
       "      <td>80.62</td>\n",
       "      <td>...</td>\n",
       "      <td>121.01</td>\n",
       "      <td>5</td>\n",
       "      <td>1059</td>\n",
       "      <td>29</td>\n",
       "      <td>36.52</td>\n",
       "      <td>8.81</td>\n",
       "      <td>24.90</td>\n",
       "      <td>2008</td>\n",
       "      <td>200000</td>\n",
       "      <td>350000</td>\n",
       "    </tr>\n",
       "    <tr>\n",
       "      <th>3</th>\n",
       "      <td>4</td>\n",
       "      <td>Ashwin, R</td>\n",
       "      <td>1</td>\n",
       "      <td>IND</td>\n",
       "      <td>CSK</td>\n",
       "      <td>Bowler</td>\n",
       "      <td>284</td>\n",
       "      <td>31</td>\n",
       "      <td>241</td>\n",
       "      <td>84.56</td>\n",
       "      <td>...</td>\n",
       "      <td>76.32</td>\n",
       "      <td>0</td>\n",
       "      <td>1125</td>\n",
       "      <td>49</td>\n",
       "      <td>22.96</td>\n",
       "      <td>6.23</td>\n",
       "      <td>22.14</td>\n",
       "      <td>2011</td>\n",
       "      <td>100000</td>\n",
       "      <td>850000</td>\n",
       "    </tr>\n",
       "    <tr>\n",
       "      <th>4</th>\n",
       "      <td>5</td>\n",
       "      <td>Badrinath, S</td>\n",
       "      <td>2</td>\n",
       "      <td>IND</td>\n",
       "      <td>CSK</td>\n",
       "      <td>Batsman</td>\n",
       "      <td>63</td>\n",
       "      <td>0</td>\n",
       "      <td>79</td>\n",
       "      <td>45.93</td>\n",
       "      <td>...</td>\n",
       "      <td>120.71</td>\n",
       "      <td>28</td>\n",
       "      <td>0</td>\n",
       "      <td>0</td>\n",
       "      <td>0.00</td>\n",
       "      <td>0.00</td>\n",
       "      <td>0.00</td>\n",
       "      <td>2011</td>\n",
       "      <td>100000</td>\n",
       "      <td>800000</td>\n",
       "    </tr>\n",
       "  </tbody>\n",
       "</table>\n",
       "<p>5 rows × 26 columns</p>\n",
       "</div>"
      ],
      "text/plain": [
       "   Sl.NO.   PLAYER NAME  AGE COUNTRY  TEAM PLAYING ROLE  T-RUNS  T-WKTS  \\\n",
       "0       1   Abdulla, YA    2      SA  KXIP   Allrounder       0       0   \n",
       "1       2  Abdur Razzak    2     BAN   RCB       Bowler     214      18   \n",
       "2       3   Agarkar, AB    2     IND   KKR       Bowler     571      58   \n",
       "3       4     Ashwin, R    1     IND   CSK       Bowler     284      31   \n",
       "4       5  Badrinath, S    2     IND   CSK      Batsman      63       0   \n",
       "\n",
       "   ODI-RUNS-S  ODI-SR-B  ...    SR-B  SIXERS  RUNS-C  WKTS  AVE-BL   ECON  \\\n",
       "0           0      0.00  ...    0.00       0     307    15   20.47   8.90   \n",
       "1         657     71.41  ...    0.00       0      29     0    0.00  14.50   \n",
       "2        1269     80.62  ...  121.01       5    1059    29   36.52   8.81   \n",
       "3         241     84.56  ...   76.32       0    1125    49   22.96   6.23   \n",
       "4          79     45.93  ...  120.71      28       0     0    0.00   0.00   \n",
       "\n",
       "   SR-BL  AUCTION YEAR  BASE PRICE  SOLD PRICE  \n",
       "0  13.93          2009       50000       50000  \n",
       "1   0.00          2008       50000       50000  \n",
       "2  24.90          2008      200000      350000  \n",
       "3  22.14          2011      100000      850000  \n",
       "4   0.00          2011      100000      800000  \n",
       "\n",
       "[5 rows x 26 columns]"
      ]
     },
     "execution_count": 3,
     "metadata": {},
     "output_type": "execute_result"
    }
   ],
   "source": [
    "df.head()"
   ]
  },
  {
   "cell_type": "markdown",
   "id": "d63d4cfb-2e78-4c57-82da-9ec6629a7baa",
   "metadata": {},
   "source": [
    "### Question 3"
   ]
  },
  {
   "cell_type": "code",
   "execution_count": 4,
   "id": "34ced3f1-be69-4f41-a804-73abeed4f76f",
   "metadata": {},
   "outputs": [
    {
     "data": {
      "text/plain": [
       "(130, 26)"
      ]
     },
     "execution_count": 4,
     "metadata": {},
     "output_type": "execute_result"
    }
   ],
   "source": [
    "df.shape"
   ]
  },
  {
   "cell_type": "code",
   "execution_count": 5,
   "id": "873cbe3f-0a7e-48db-8c31-6543b753f3ad",
   "metadata": {},
   "outputs": [
    {
     "data": {
      "text/plain": [
       "Sl.NO.           0\n",
       "PLAYER NAME      0\n",
       "AGE              0\n",
       "COUNTRY          0\n",
       "TEAM             0\n",
       "PLAYING ROLE     0\n",
       "T-RUNS           0\n",
       "T-WKTS           0\n",
       "ODI-RUNS-S       0\n",
       "ODI-SR-B         0\n",
       "ODI-WKTS         0\n",
       "ODI-SR-BL        0\n",
       "CAPTAINCY EXP    0\n",
       "RUNS-S           0\n",
       "HS               0\n",
       "AVE              0\n",
       "SR-B             0\n",
       "SIXERS           0\n",
       "RUNS-C           0\n",
       "WKTS             0\n",
       "AVE-BL           0\n",
       "ECON             0\n",
       "SR-BL            0\n",
       "AUCTION YEAR     0\n",
       "BASE PRICE       0\n",
       "SOLD PRICE       0\n",
       "dtype: int64"
      ]
     },
     "execution_count": 5,
     "metadata": {},
     "output_type": "execute_result"
    }
   ],
   "source": [
    "df.isnull().sum()"
   ]
  },
  {
   "cell_type": "code",
   "execution_count": 6,
   "id": "ca3785cf-4746-41ef-9204-a44c17b820c1",
   "metadata": {},
   "outputs": [
    {
     "name": "stdout",
     "output_type": "stream",
     "text": [
      "<class 'pandas.core.frame.DataFrame'>\n",
      "RangeIndex: 130 entries, 0 to 129\n",
      "Data columns (total 26 columns):\n",
      " #   Column         Non-Null Count  Dtype  \n",
      "---  ------         --------------  -----  \n",
      " 0   Sl.NO.         130 non-null    int64  \n",
      " 1   PLAYER NAME    130 non-null    object \n",
      " 2   AGE            130 non-null    int64  \n",
      " 3   COUNTRY        130 non-null    object \n",
      " 4   TEAM           130 non-null    object \n",
      " 5   PLAYING ROLE   130 non-null    object \n",
      " 6   T-RUNS         130 non-null    int64  \n",
      " 7   T-WKTS         130 non-null    int64  \n",
      " 8   ODI-RUNS-S     130 non-null    int64  \n",
      " 9   ODI-SR-B       130 non-null    float64\n",
      " 10  ODI-WKTS       130 non-null    int64  \n",
      " 11  ODI-SR-BL      130 non-null    float64\n",
      " 12  CAPTAINCY EXP  130 non-null    int64  \n",
      " 13  RUNS-S         130 non-null    int64  \n",
      " 14  HS             130 non-null    int64  \n",
      " 15  AVE            130 non-null    float64\n",
      " 16  SR-B           130 non-null    float64\n",
      " 17  SIXERS         130 non-null    int64  \n",
      " 18  RUNS-C         130 non-null    int64  \n",
      " 19  WKTS           130 non-null    int64  \n",
      " 20  AVE-BL         130 non-null    float64\n",
      " 21  ECON           130 non-null    float64\n",
      " 22  SR-BL          130 non-null    float64\n",
      " 23  AUCTION YEAR   130 non-null    int64  \n",
      " 24  BASE PRICE     130 non-null    int64  \n",
      " 25  SOLD PRICE     130 non-null    int64  \n",
      "dtypes: float64(7), int64(15), object(4)\n",
      "memory usage: 26.5+ KB\n"
     ]
    }
   ],
   "source": [
    "df.info()"
   ]
  },
  {
   "cell_type": "markdown",
   "id": "480511db-6d76-4994-965a-5826d743a0de",
   "metadata": {},
   "source": [
    "### Question 4"
   ]
  },
  {
   "cell_type": "code",
   "execution_count": 7,
   "id": "5b4eeac6-09fa-4757-9a59-494a87ef944d",
   "metadata": {},
   "outputs": [
    {
     "data": {
      "text/html": [
       "<div>\n",
       "<style scoped>\n",
       "    .dataframe tbody tr th:only-of-type {\n",
       "        vertical-align: middle;\n",
       "    }\n",
       "\n",
       "    .dataframe tbody tr th {\n",
       "        vertical-align: top;\n",
       "    }\n",
       "\n",
       "    .dataframe thead th {\n",
       "        text-align: right;\n",
       "    }\n",
       "</style>\n",
       "<table border=\"1\" class=\"dataframe\">\n",
       "  <thead>\n",
       "    <tr style=\"text-align: right;\">\n",
       "      <th></th>\n",
       "      <th>Sl.NO.</th>\n",
       "      <th>AGE</th>\n",
       "      <th>T-RUNS</th>\n",
       "      <th>T-WKTS</th>\n",
       "      <th>ODI-RUNS-S</th>\n",
       "      <th>ODI-SR-B</th>\n",
       "      <th>ODI-WKTS</th>\n",
       "      <th>ODI-SR-BL</th>\n",
       "      <th>CAPTAINCY EXP</th>\n",
       "      <th>RUNS-S</th>\n",
       "      <th>...</th>\n",
       "      <th>SR-B</th>\n",
       "      <th>SIXERS</th>\n",
       "      <th>RUNS-C</th>\n",
       "      <th>WKTS</th>\n",
       "      <th>AVE-BL</th>\n",
       "      <th>ECON</th>\n",
       "      <th>SR-BL</th>\n",
       "      <th>AUCTION YEAR</th>\n",
       "      <th>BASE PRICE</th>\n",
       "      <th>SOLD PRICE</th>\n",
       "    </tr>\n",
       "  </thead>\n",
       "  <tbody>\n",
       "    <tr>\n",
       "      <th>count</th>\n",
       "      <td>130.000000</td>\n",
       "      <td>130.000000</td>\n",
       "      <td>130.000000</td>\n",
       "      <td>130.000000</td>\n",
       "      <td>130.000000</td>\n",
       "      <td>130.000000</td>\n",
       "      <td>130.000000</td>\n",
       "      <td>130.000000</td>\n",
       "      <td>130.000000</td>\n",
       "      <td>130.000000</td>\n",
       "      <td>...</td>\n",
       "      <td>130.000000</td>\n",
       "      <td>130.000000</td>\n",
       "      <td>130.000000</td>\n",
       "      <td>130.000000</td>\n",
       "      <td>130.000000</td>\n",
       "      <td>130.000000</td>\n",
       "      <td>130.000000</td>\n",
       "      <td>130.000000</td>\n",
       "      <td>1.300000e+02</td>\n",
       "      <td>1.300000e+02</td>\n",
       "    </tr>\n",
       "    <tr>\n",
       "      <th>mean</th>\n",
       "      <td>65.500000</td>\n",
       "      <td>2.092308</td>\n",
       "      <td>2166.715385</td>\n",
       "      <td>66.530769</td>\n",
       "      <td>2508.738462</td>\n",
       "      <td>71.164385</td>\n",
       "      <td>76.076923</td>\n",
       "      <td>34.033846</td>\n",
       "      <td>0.315385</td>\n",
       "      <td>514.246154</td>\n",
       "      <td>...</td>\n",
       "      <td>111.053462</td>\n",
       "      <td>17.692308</td>\n",
       "      <td>475.523077</td>\n",
       "      <td>17.169231</td>\n",
       "      <td>23.110231</td>\n",
       "      <td>6.204462</td>\n",
       "      <td>17.382615</td>\n",
       "      <td>2009.092308</td>\n",
       "      <td>1.922308e+05</td>\n",
       "      <td>5.212231e+05</td>\n",
       "    </tr>\n",
       "    <tr>\n",
       "      <th>std</th>\n",
       "      <td>37.671829</td>\n",
       "      <td>0.576627</td>\n",
       "      <td>3305.646757</td>\n",
       "      <td>142.676855</td>\n",
       "      <td>3582.205625</td>\n",
       "      <td>25.898440</td>\n",
       "      <td>111.205070</td>\n",
       "      <td>26.751749</td>\n",
       "      <td>0.466466</td>\n",
       "      <td>615.226335</td>\n",
       "      <td>...</td>\n",
       "      <td>35.928907</td>\n",
       "      <td>23.828146</td>\n",
       "      <td>558.314049</td>\n",
       "      <td>21.816763</td>\n",
       "      <td>20.802057</td>\n",
       "      <td>4.941531</td>\n",
       "      <td>15.273422</td>\n",
       "      <td>1.377821</td>\n",
       "      <td>1.530973e+05</td>\n",
       "      <td>4.068074e+05</td>\n",
       "    </tr>\n",
       "    <tr>\n",
       "      <th>min</th>\n",
       "      <td>1.000000</td>\n",
       "      <td>1.000000</td>\n",
       "      <td>0.000000</td>\n",
       "      <td>0.000000</td>\n",
       "      <td>0.000000</td>\n",
       "      <td>0.000000</td>\n",
       "      <td>0.000000</td>\n",
       "      <td>0.000000</td>\n",
       "      <td>0.000000</td>\n",
       "      <td>0.000000</td>\n",
       "      <td>...</td>\n",
       "      <td>0.000000</td>\n",
       "      <td>0.000000</td>\n",
       "      <td>0.000000</td>\n",
       "      <td>0.000000</td>\n",
       "      <td>0.000000</td>\n",
       "      <td>0.000000</td>\n",
       "      <td>0.000000</td>\n",
       "      <td>2008.000000</td>\n",
       "      <td>2.000000e+04</td>\n",
       "      <td>2.000000e+04</td>\n",
       "    </tr>\n",
       "    <tr>\n",
       "      <th>25%</th>\n",
       "      <td>33.250000</td>\n",
       "      <td>2.000000</td>\n",
       "      <td>25.500000</td>\n",
       "      <td>0.000000</td>\n",
       "      <td>73.250000</td>\n",
       "      <td>65.650000</td>\n",
       "      <td>0.000000</td>\n",
       "      <td>0.000000</td>\n",
       "      <td>0.000000</td>\n",
       "      <td>39.000000</td>\n",
       "      <td>...</td>\n",
       "      <td>98.237500</td>\n",
       "      <td>1.000000</td>\n",
       "      <td>0.000000</td>\n",
       "      <td>0.000000</td>\n",
       "      <td>0.000000</td>\n",
       "      <td>0.000000</td>\n",
       "      <td>0.000000</td>\n",
       "      <td>2008.000000</td>\n",
       "      <td>1.000000e+05</td>\n",
       "      <td>2.250000e+05</td>\n",
       "    </tr>\n",
       "    <tr>\n",
       "      <th>50%</th>\n",
       "      <td>65.500000</td>\n",
       "      <td>2.000000</td>\n",
       "      <td>542.500000</td>\n",
       "      <td>7.000000</td>\n",
       "      <td>835.000000</td>\n",
       "      <td>78.225000</td>\n",
       "      <td>18.500000</td>\n",
       "      <td>36.600000</td>\n",
       "      <td>0.000000</td>\n",
       "      <td>172.000000</td>\n",
       "      <td>...</td>\n",
       "      <td>118.510000</td>\n",
       "      <td>6.000000</td>\n",
       "      <td>297.000000</td>\n",
       "      <td>8.500000</td>\n",
       "      <td>24.785000</td>\n",
       "      <td>7.380000</td>\n",
       "      <td>19.935000</td>\n",
       "      <td>2008.000000</td>\n",
       "      <td>2.000000e+05</td>\n",
       "      <td>4.375000e+05</td>\n",
       "    </tr>\n",
       "    <tr>\n",
       "      <th>75%</th>\n",
       "      <td>97.750000</td>\n",
       "      <td>2.000000</td>\n",
       "      <td>3002.250000</td>\n",
       "      <td>47.500000</td>\n",
       "      <td>3523.500000</td>\n",
       "      <td>86.790000</td>\n",
       "      <td>106.000000</td>\n",
       "      <td>45.325000</td>\n",
       "      <td>1.000000</td>\n",
       "      <td>925.250000</td>\n",
       "      <td>...</td>\n",
       "      <td>129.102500</td>\n",
       "      <td>29.750000</td>\n",
       "      <td>689.250000</td>\n",
       "      <td>23.750000</td>\n",
       "      <td>35.580000</td>\n",
       "      <td>8.247500</td>\n",
       "      <td>26.212500</td>\n",
       "      <td>2011.000000</td>\n",
       "      <td>2.250000e+05</td>\n",
       "      <td>7.000000e+05</td>\n",
       "    </tr>\n",
       "    <tr>\n",
       "      <th>max</th>\n",
       "      <td>130.000000</td>\n",
       "      <td>3.000000</td>\n",
       "      <td>15470.000000</td>\n",
       "      <td>800.000000</td>\n",
       "      <td>18426.000000</td>\n",
       "      <td>116.660000</td>\n",
       "      <td>534.000000</td>\n",
       "      <td>150.000000</td>\n",
       "      <td>1.000000</td>\n",
       "      <td>2254.000000</td>\n",
       "      <td>...</td>\n",
       "      <td>235.490000</td>\n",
       "      <td>129.000000</td>\n",
       "      <td>1975.000000</td>\n",
       "      <td>83.000000</td>\n",
       "      <td>126.300000</td>\n",
       "      <td>38.110000</td>\n",
       "      <td>100.200000</td>\n",
       "      <td>2011.000000</td>\n",
       "      <td>1.350000e+06</td>\n",
       "      <td>1.800000e+06</td>\n",
       "    </tr>\n",
       "  </tbody>\n",
       "</table>\n",
       "<p>8 rows × 22 columns</p>\n",
       "</div>"
      ],
      "text/plain": [
       "           Sl.NO.         AGE        T-RUNS      T-WKTS    ODI-RUNS-S  \\\n",
       "count  130.000000  130.000000    130.000000  130.000000    130.000000   \n",
       "mean    65.500000    2.092308   2166.715385   66.530769   2508.738462   \n",
       "std     37.671829    0.576627   3305.646757  142.676855   3582.205625   \n",
       "min      1.000000    1.000000      0.000000    0.000000      0.000000   \n",
       "25%     33.250000    2.000000     25.500000    0.000000     73.250000   \n",
       "50%     65.500000    2.000000    542.500000    7.000000    835.000000   \n",
       "75%     97.750000    2.000000   3002.250000   47.500000   3523.500000   \n",
       "max    130.000000    3.000000  15470.000000  800.000000  18426.000000   \n",
       "\n",
       "         ODI-SR-B    ODI-WKTS   ODI-SR-BL  CAPTAINCY EXP       RUNS-S  ...  \\\n",
       "count  130.000000  130.000000  130.000000     130.000000   130.000000  ...   \n",
       "mean    71.164385   76.076923   34.033846       0.315385   514.246154  ...   \n",
       "std     25.898440  111.205070   26.751749       0.466466   615.226335  ...   \n",
       "min      0.000000    0.000000    0.000000       0.000000     0.000000  ...   \n",
       "25%     65.650000    0.000000    0.000000       0.000000    39.000000  ...   \n",
       "50%     78.225000   18.500000   36.600000       0.000000   172.000000  ...   \n",
       "75%     86.790000  106.000000   45.325000       1.000000   925.250000  ...   \n",
       "max    116.660000  534.000000  150.000000       1.000000  2254.000000  ...   \n",
       "\n",
       "             SR-B      SIXERS       RUNS-C        WKTS      AVE-BL  \\\n",
       "count  130.000000  130.000000   130.000000  130.000000  130.000000   \n",
       "mean   111.053462   17.692308   475.523077   17.169231   23.110231   \n",
       "std     35.928907   23.828146   558.314049   21.816763   20.802057   \n",
       "min      0.000000    0.000000     0.000000    0.000000    0.000000   \n",
       "25%     98.237500    1.000000     0.000000    0.000000    0.000000   \n",
       "50%    118.510000    6.000000   297.000000    8.500000   24.785000   \n",
       "75%    129.102500   29.750000   689.250000   23.750000   35.580000   \n",
       "max    235.490000  129.000000  1975.000000   83.000000  126.300000   \n",
       "\n",
       "             ECON       SR-BL  AUCTION YEAR    BASE PRICE    SOLD PRICE  \n",
       "count  130.000000  130.000000    130.000000  1.300000e+02  1.300000e+02  \n",
       "mean     6.204462   17.382615   2009.092308  1.922308e+05  5.212231e+05  \n",
       "std      4.941531   15.273422      1.377821  1.530973e+05  4.068074e+05  \n",
       "min      0.000000    0.000000   2008.000000  2.000000e+04  2.000000e+04  \n",
       "25%      0.000000    0.000000   2008.000000  1.000000e+05  2.250000e+05  \n",
       "50%      7.380000   19.935000   2008.000000  2.000000e+05  4.375000e+05  \n",
       "75%      8.247500   26.212500   2011.000000  2.250000e+05  7.000000e+05  \n",
       "max     38.110000  100.200000   2011.000000  1.350000e+06  1.800000e+06  \n",
       "\n",
       "[8 rows x 22 columns]"
      ]
     },
     "execution_count": 7,
     "metadata": {},
     "output_type": "execute_result"
    }
   ],
   "source": [
    "df.describe()"
   ]
  },
  {
   "cell_type": "markdown",
   "id": "815442a1-43bc-4395-ba4f-3df29720c8a5",
   "metadata": {},
   "source": [
    "### Question 5"
   ]
  },
  {
   "cell_type": "markdown",
   "id": "403ae8d5-d93e-4777-b932-b8ef42f4d920",
   "metadata": {},
   "source": [
    "##### Indexing"
   ]
  },
  {
   "cell_type": "code",
   "execution_count": 8,
   "id": "bbfdbf00-9724-4b70-902f-a03fd6b092dc",
   "metadata": {},
   "outputs": [
    {
     "data": {
      "text/plain": [
       "Sl.NO.                   4\n",
       "PLAYER NAME      Ashwin, R\n",
       "AGE                      1\n",
       "COUNTRY                IND\n",
       "TEAM                   CSK\n",
       "PLAYING ROLE        Bowler\n",
       "T-RUNS                 284\n",
       "T-WKTS                  31\n",
       "ODI-RUNS-S             241\n",
       "ODI-SR-B             84.56\n",
       "ODI-WKTS                51\n",
       "ODI-SR-BL             36.8\n",
       "CAPTAINCY EXP            0\n",
       "RUNS-S                  58\n",
       "HS                      11\n",
       "AVE                    5.8\n",
       "SR-B                 76.32\n",
       "SIXERS                   0\n",
       "RUNS-C                1125\n",
       "WKTS                    49\n",
       "AVE-BL               22.96\n",
       "ECON                  6.23\n",
       "SR-BL                22.14\n",
       "AUCTION YEAR          2011\n",
       "BASE PRICE          100000\n",
       "SOLD PRICE          850000\n",
       "Name: 3, dtype: object"
      ]
     },
     "execution_count": 8,
     "metadata": {},
     "output_type": "execute_result"
    }
   ],
   "source": [
    "df.loc[3]"
   ]
  },
  {
   "cell_type": "markdown",
   "id": "68190d6a-995f-4d3f-9030-557af76234f4",
   "metadata": {},
   "source": [
    "#### Slicing "
   ]
  },
  {
   "cell_type": "code",
   "execution_count": 9,
   "id": "7092fd14-e062-474a-bf70-3f6d3e8b8512",
   "metadata": {},
   "outputs": [
    {
     "data": {
      "text/plain": [
       "2        KKR\n",
       "3        CSK\n",
       "4        CSK\n",
       "5        CSK\n",
       "6       CSK+\n",
       "       ...  \n",
       "125       DC\n",
       "126       RR\n",
       "127    KXIP+\n",
       "128      MI+\n",
       "129       DC\n",
       "Name: TEAM, Length: 128, dtype: object"
      ]
     },
     "execution_count": 9,
     "metadata": {},
     "output_type": "execute_result"
    }
   ],
   "source": [
    "df.iloc[2:,4]"
   ]
  },
  {
   "cell_type": "markdown",
   "id": "629dd10b-4b12-4922-ad5c-d0462d2c2bb6",
   "metadata": {},
   "source": [
    "### Question 6"
   ]
  },
  {
   "cell_type": "code",
   "execution_count": 10,
   "id": "3a82f866-0d6d-400d-8809-1a151e023300",
   "metadata": {},
   "outputs": [
    {
     "data": {
      "text/plain": [
       "0       Abdulla, YA\n",
       "1      Abdur Razzak\n",
       "2       Agarkar, AB\n",
       "3         Ashwin, R\n",
       "4      Badrinath, S\n",
       "           ...     \n",
       "125       Yadav, AS\n",
       "126     Younis Khan\n",
       "127    Yuvraj Singh\n",
       "128     Zaheer Khan\n",
       "129      Zoysa, DNT\n",
       "Name: PLAYER NAME, Length: 130, dtype: object"
      ]
     },
     "execution_count": 10,
     "metadata": {},
     "output_type": "execute_result"
    }
   ],
   "source": [
    "df[\"PLAYER NAME\"]"
   ]
  },
  {
   "cell_type": "markdown",
   "id": "a8d89330-fe69-468b-9cc2-a272501f47ab",
   "metadata": {},
   "source": [
    "### Question 7"
   ]
  },
  {
   "cell_type": "code",
   "execution_count": 11,
   "id": "c02e1675-af7c-4dff-a116-905c22e467f0",
   "metadata": {},
   "outputs": [
    {
     "name": "stdout",
     "output_type": "stream",
     "text": [
      "['SA' 'BAN' 'IND' 'AUS' 'WI' 'SL' 'NZ' 'ENG' 'PAK' 'ZIM']\n"
     ]
    }
   ],
   "source": [
    "print(df[\"COUNTRY\"].unique())"
   ]
  },
  {
   "cell_type": "markdown",
   "id": "bb10114e-c2f1-40b3-882a-679ee73a21d6",
   "metadata": {},
   "source": [
    "### Question 8"
   ]
  },
  {
   "cell_type": "code",
   "execution_count": 23,
   "id": "658ddf7e-2292-4101-9d85-33d0d412f739",
   "metadata": {},
   "outputs": [
    {
     "data": {
      "text/html": [
       "<div>\n",
       "<style scoped>\n",
       "    .dataframe tbody tr th:only-of-type {\n",
       "        vertical-align: middle;\n",
       "    }\n",
       "\n",
       "    .dataframe tbody tr th {\n",
       "        vertical-align: top;\n",
       "    }\n",
       "\n",
       "    .dataframe thead th {\n",
       "        text-align: right;\n",
       "    }\n",
       "</style>\n",
       "<table border=\"1\" class=\"dataframe\">\n",
       "  <thead>\n",
       "    <tr style=\"text-align: right;\">\n",
       "      <th>PLAYING ROLE</th>\n",
       "      <th>Allrounder</th>\n",
       "      <th>Batsman</th>\n",
       "      <th>Bowler</th>\n",
       "      <th>W. Keeper</th>\n",
       "    </tr>\n",
       "    <tr>\n",
       "      <th>AGE</th>\n",
       "      <th></th>\n",
       "      <th></th>\n",
       "      <th></th>\n",
       "      <th></th>\n",
       "    </tr>\n",
       "  </thead>\n",
       "  <tbody>\n",
       "    <tr>\n",
       "      <th>1</th>\n",
       "      <td>4</td>\n",
       "      <td>5</td>\n",
       "      <td>7</td>\n",
       "      <td>0</td>\n",
       "    </tr>\n",
       "    <tr>\n",
       "      <th>2</th>\n",
       "      <td>25</td>\n",
       "      <td>21</td>\n",
       "      <td>29</td>\n",
       "      <td>11</td>\n",
       "    </tr>\n",
       "    <tr>\n",
       "      <th>3</th>\n",
       "      <td>6</td>\n",
       "      <td>13</td>\n",
       "      <td>8</td>\n",
       "      <td>1</td>\n",
       "    </tr>\n",
       "  </tbody>\n",
       "</table>\n",
       "</div>"
      ],
      "text/plain": [
       "PLAYING ROLE  Allrounder  Batsman  Bowler  W. Keeper\n",
       "AGE                                                 \n",
       "1                      4        5       7          0\n",
       "2                     25       21      29         11\n",
       "3                      6       13       8          1"
      ]
     },
     "execution_count": 23,
     "metadata": {},
     "output_type": "execute_result"
    }
   ],
   "source": [
    "cross_tab = pd.crosstab(df['AGE'], df['PLAYING ROLE'])\n",
    "cross_tab"
   ]
  },
  {
   "cell_type": "markdown",
   "id": "d5bb8b80-22c3-4cd5-9e4a-ad4334745f2c",
   "metadata": {},
   "source": [
    "### Question 9"
   ]
  },
  {
   "cell_type": "code",
   "execution_count": 24,
   "id": "e2593ab7-0513-47d0-8ae7-2f3823922ead",
   "metadata": {},
   "outputs": [
    {
     "data": {
      "text/html": [
       "<div>\n",
       "<style scoped>\n",
       "    .dataframe tbody tr th:only-of-type {\n",
       "        vertical-align: middle;\n",
       "    }\n",
       "\n",
       "    .dataframe tbody tr th {\n",
       "        vertical-align: top;\n",
       "    }\n",
       "\n",
       "    .dataframe thead th {\n",
       "        text-align: right;\n",
       "    }\n",
       "</style>\n",
       "<table border=\"1\" class=\"dataframe\">\n",
       "  <thead>\n",
       "    <tr style=\"text-align: right;\">\n",
       "      <th></th>\n",
       "      <th>PLAYER NAME</th>\n",
       "      <th>SOLD PRICE</th>\n",
       "    </tr>\n",
       "  </thead>\n",
       "  <tbody>\n",
       "    <tr>\n",
       "      <th>73</th>\n",
       "      <td>Noffke, AA</td>\n",
       "      <td>20000</td>\n",
       "    </tr>\n",
       "    <tr>\n",
       "      <th>46</th>\n",
       "      <td>Kamran Khan</td>\n",
       "      <td>24000</td>\n",
       "    </tr>\n",
       "    <tr>\n",
       "      <th>0</th>\n",
       "      <td>Abdulla, YA</td>\n",
       "      <td>50000</td>\n",
       "    </tr>\n",
       "    <tr>\n",
       "      <th>1</th>\n",
       "      <td>Abdur Razzak</td>\n",
       "      <td>50000</td>\n",
       "    </tr>\n",
       "    <tr>\n",
       "      <th>118</th>\n",
       "      <td>Van der Merwe</td>\n",
       "      <td>50000</td>\n",
       "    </tr>\n",
       "    <tr>\n",
       "      <th>...</th>\n",
       "      <td>...</td>\n",
       "      <td>...</td>\n",
       "    </tr>\n",
       "    <tr>\n",
       "      <th>113</th>\n",
       "      <td>Tiwary, SS</td>\n",
       "      <td>1600000</td>\n",
       "    </tr>\n",
       "    <tr>\n",
       "      <th>111</th>\n",
       "      <td>Tendulkar, SR</td>\n",
       "      <td>1800000</td>\n",
       "    </tr>\n",
       "    <tr>\n",
       "      <th>50</th>\n",
       "      <td>Kohli, V</td>\n",
       "      <td>1800000</td>\n",
       "    </tr>\n",
       "    <tr>\n",
       "      <th>93</th>\n",
       "      <td>Sehwag, V</td>\n",
       "      <td>1800000</td>\n",
       "    </tr>\n",
       "    <tr>\n",
       "      <th>127</th>\n",
       "      <td>Yuvraj Singh</td>\n",
       "      <td>1800000</td>\n",
       "    </tr>\n",
       "  </tbody>\n",
       "</table>\n",
       "<p>130 rows × 2 columns</p>\n",
       "</div>"
      ],
      "text/plain": [
       "       PLAYER NAME  SOLD PRICE\n",
       "73      Noffke, AA       20000\n",
       "46     Kamran Khan       24000\n",
       "0      Abdulla, YA       50000\n",
       "1     Abdur Razzak       50000\n",
       "118  Van der Merwe       50000\n",
       "..             ...         ...\n",
       "113     Tiwary, SS     1600000\n",
       "111  Tendulkar, SR     1800000\n",
       "50        Kohli, V     1800000\n",
       "93       Sehwag, V     1800000\n",
       "127   Yuvraj Singh     1800000\n",
       "\n",
       "[130 rows x 2 columns]"
      ]
     },
     "execution_count": 24,
     "metadata": {},
     "output_type": "execute_result"
    }
   ],
   "source": [
    "df.loc[:,[\"PLAYER NAME\",\"SOLD PRICE\"]].sort_values(by=\"SOLD PRICE\",ascending=True)"
   ]
  },
  {
   "cell_type": "markdown",
   "id": "4ab7181c-c1e6-42ca-ab99-c8b6a9eb03f1",
   "metadata": {},
   "source": [
    "### Question 10"
   ]
  },
  {
   "cell_type": "code",
   "execution_count": 28,
   "id": "d1831908-9246-4742-ba04-6185561e7abb",
   "metadata": {},
   "outputs": [
    {
     "data": {
      "text/html": [
       "<div>\n",
       "<style scoped>\n",
       "    .dataframe tbody tr th:only-of-type {\n",
       "        vertical-align: middle;\n",
       "    }\n",
       "\n",
       "    .dataframe tbody tr th {\n",
       "        vertical-align: top;\n",
       "    }\n",
       "\n",
       "    .dataframe thead th {\n",
       "        text-align: right;\n",
       "    }\n",
       "</style>\n",
       "<table border=\"1\" class=\"dataframe\">\n",
       "  <thead>\n",
       "    <tr style=\"text-align: right;\">\n",
       "      <th></th>\n",
       "      <th>PLAYER NAME</th>\n",
       "      <th>max_premium</th>\n",
       "    </tr>\n",
       "  </thead>\n",
       "  <tbody>\n",
       "    <tr>\n",
       "      <th>50</th>\n",
       "      <td>Kohli, V</td>\n",
       "      <td>1650000</td>\n",
       "    </tr>\n",
       "  </tbody>\n",
       "</table>\n",
       "</div>"
      ],
      "text/plain": [
       "   PLAYER NAME  max_premium\n",
       "50    Kohli, V      1650000"
      ]
     },
     "execution_count": 28,
     "metadata": {},
     "output_type": "execute_result"
    }
   ],
   "source": [
    "df[\"max_premium\"]=df[\"SOLD PRICE\"]-df[\"BASE PRICE\"]\n",
    "top=df[\"max_premium\"].max()\n",
    "df.loc[df[\"max_premium\"]==top,[\"PLAYER NAME\",\"max_premium\"]]"
   ]
  },
  {
   "cell_type": "markdown",
   "id": "cf519265-1700-494e-8355-42f1ef9af205",
   "metadata": {},
   "source": [
    "### Question 11"
   ]
  },
  {
   "cell_type": "code",
   "execution_count": 40,
   "id": "bf855cb2-ce5a-4ab8-b2fc-452472585c31",
   "metadata": {},
   "outputs": [
    {
     "name": "stdout",
     "output_type": "stream",
     "text": [
      "       PLAYER NAME  max_premium\n",
      "50        Kohli, V      1650000\n",
      "113     Tiwary, SS      1500000\n",
      "127   Yuvraj Singh      1400000\n",
      "111  Tendulkar, SR      1400000\n",
      "93       Sehwag, V      1400000\n",
      "108     Symonds, A      1100000\n",
      "15       Dhoni, MS      1100000\n",
      "39      Jadeja, RA       850000\n",
      "95       Sharma, I       800000\n",
      "3        Ashwin, R       750000\n"
     ]
    }
   ],
   "source": [
    "top_10=df.sort_values(by=[\"max_premium\"],ascending=False).head(10)\n",
    "print(top_10[[\"PLAYER NAME\",\"max_premium\"]])"
   ]
  },
  {
   "cell_type": "markdown",
   "id": "b2bcb0e8-1847-4d7d-a909-bb8c2c2bab5b",
   "metadata": {},
   "source": [
    "### Question 12"
   ]
  },
  {
   "cell_type": "code",
   "execution_count": 44,
   "id": "ab98f659-bf55-46d5-9951-7d05a375deb0",
   "metadata": {},
   "outputs": [
    {
     "name": "stdout",
     "output_type": "stream",
     "text": [
      "Age 1 = Average Sold Price: 720250.0\n",
      "Age 2 = Average Sold Price: 484534.88372093026\n",
      "Age 3 = Average Sold Price: 520178.5714285714\n"
     ]
    }
   ],
   "source": [
    "age_groups = df.groupby(\"AGE\")[\"SOLD PRICE\"].mean()\n",
    "for x, y in age_groups.items():\n",
    "    print(f\"Age {x} = Average Sold Price: {y}\")"
   ]
  },
  {
   "cell_type": "markdown",
   "id": "83e2e29c-342b-4746-9c29-16a3075038e0",
   "metadata": {},
   "source": [
    "### Question 13"
   ]
  },
  {
   "cell_type": "code",
   "execution_count": 47,
   "id": "145c0c04-2641-4a0d-bc98-c8dce64dfeaf",
   "metadata": {},
   "outputs": [
    {
     "name": "stdout",
     "output_type": "stream",
     "text": [
      "Age 1 = Average Sold Price: 587500.0, Playing Role: Allrounder\n",
      "Age 1 = Average Sold Price: 1110000.0, Playing Role: Batsman\n",
      "Age 1 = Average Sold Price: 517714.28571428574, Playing Role: Bowler\n",
      "Age 2 = Average Sold Price: 449400.0, Playing Role: Allrounder\n",
      "Age 2 = Average Sold Price: 654761.9047619047, Playing Role: Batsman\n",
      "Age 2 = Average Sold Price: 397931.0344827586, Playing Role: Bowler\n",
      "Age 2 = Average Sold Price: 467727.2727272727, Playing Role: W. Keeper\n",
      "Age 3 = Average Sold Price: 766666.6666666666, Playing Role: Allrounder\n",
      "Age 3 = Average Sold Price: 457692.3076923077, Playing Role: Batsman\n",
      "Age 3 = Average Sold Price: 414375.0, Playing Role: Bowler\n",
      "Age 3 = Average Sold Price: 700000.0, Playing Role: W. Keeper\n"
     ]
    }
   ],
   "source": [
    "age_playing_role_groups = df.groupby([\"AGE\", \"PLAYING ROLE\"])[\"SOLD PRICE\"].mean()\n",
    "for (age, playing_role), avg_sold_price in age_playing_role_groups.items():\n",
    "    print(f\"Age {age} = Average Sold Price: {avg_sold_price}, Playing Role: {playing_role}\")"
   ]
  }
 ],
 "metadata": {
  "kernelspec": {
   "display_name": "Python 3 (ipykernel)",
   "language": "python",
   "name": "python3"
  },
  "language_info": {
   "codemirror_mode": {
    "name": "ipython",
    "version": 3
   },
   "file_extension": ".py",
   "mimetype": "text/x-python",
   "name": "python",
   "nbconvert_exporter": "python",
   "pygments_lexer": "ipython3",
   "version": "3.11.7"
  }
 },
 "nbformat": 4,
 "nbformat_minor": 5
}
